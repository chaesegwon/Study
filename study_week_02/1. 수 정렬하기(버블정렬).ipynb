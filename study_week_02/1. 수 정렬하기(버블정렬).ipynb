{
 "cells": [
  {
   "cell_type": "markdown",
   "id": "12509a4b",
   "metadata": {},
   "source": [
    "- 문제\n",
    "\n",
    "    N개의 수가 주어졌을 때, 이를 오름차순으로 정렬하는 프로그램을 작성하시오.\n",
    "\n",
    "\n",
    "- 입력\n",
    "\n",
    "    첫째 줄에 수의 개수 N(1 ≤ N ≤ 1,000)이 주어진다. 둘째 줄부터 N개의 줄에는 수가 주어진다. 이 수는 절댓값이 1,000보다 작거나 같은 정수이다. 수는 중복되지 않는다.\n",
    "\n",
    "\n",
    "- 출력\n",
    "   \n",
    "    첫째 줄부터 N개의 줄에 오름차순으로 정렬한 결과를 한 줄에 하나씩 출력한다."
   ]
  },
  {
   "cell_type": "code",
   "execution_count": 13,
   "id": "d8f365e8",
   "metadata": {
    "ExecuteTime": {
     "end_time": "2023-01-15T07:18:27.022643Z",
     "start_time": "2023-01-15T07:18:23.175380Z"
    }
   },
   "outputs": [
    {
     "name": "stdout",
     "output_type": "stream",
     "text": [
      "5\n",
      "4\n",
      "6\n",
      "3\n",
      "2\n",
      "8\n",
      "[4, 6, 3, 2, 8]\n",
      "[3, 6, 4, 2, 8]\n",
      "[2, 6, 4, 3, 8]\n",
      "[6, 2, 4, 3, 8]\n",
      "[6, 2, 4, 3, 8]\n",
      "[6, 4, 2, 3, 8]\n",
      "[6, 4, 2, 3, 8]\n",
      "[6, 4, 3, 2, 8]\n",
      "[6, 4, 3, 2, 8]\n",
      "[8, 4, 3, 2, 6]\n",
      "[8, 6, 3, 2, 4]\n",
      "[8, 6, 4, 2, 3]\n",
      "[8, 6, 4, 3, 2]\n",
      "[8, 6, 4, 3, 2]\n",
      "[8, 6, 4, 3, 2]\n"
     ]
    }
   ],
   "source": [
    "N = int(input())\n",
    "lst = []\n",
    "for _ in range(N):\n",
    "    i = int(input())\n",
    "    lst.append(i)\n",
    "\n",
    "for v in range(len(lst)):\n",
    "    for n in range(len(lst)):\n",
    "        if lst[v] < lst[n]:\n",
    "            continue\n",
    "        else:\n",
    "            lst[v], lst[n] = lst[n], lst[v]\n",
    "        print(lst)\n",
    "print(lst)\n"
   ]
  }
 ],
 "metadata": {
  "kernelspec": {
   "display_name": "Python 3",
   "language": "python",
   "name": "python3"
  },
  "language_info": {
   "codemirror_mode": {
    "name": "ipython",
    "version": 3
   },
   "file_extension": ".py",
   "mimetype": "text/x-python",
   "name": "python",
   "nbconvert_exporter": "python",
   "pygments_lexer": "ipython3",
   "version": "3.11.1 (v3.11.1:a7a450f84a, Dec  6 2022, 15:24:06) [Clang 13.0.0 (clang-1300.0.29.30)]"
  },
  "toc": {
   "base_numbering": 1,
   "nav_menu": {},
   "number_sections": true,
   "sideBar": true,
   "skip_h1_title": false,
   "title_cell": "Table of Contents",
   "title_sidebar": "Contents",
   "toc_cell": false,
   "toc_position": {},
   "toc_section_display": true,
   "toc_window_display": false
  },
  "varInspector": {
   "cols": {
    "lenName": 16,
    "lenType": 16,
    "lenVar": 40
   },
   "kernels_config": {
    "python": {
     "delete_cmd_postfix": "",
     "delete_cmd_prefix": "del ",
     "library": "var_list.py",
     "varRefreshCmd": "print(var_dic_list())"
    },
    "r": {
     "delete_cmd_postfix": ") ",
     "delete_cmd_prefix": "rm(",
     "library": "var_list.r",
     "varRefreshCmd": "cat(var_dic_list()) "
    }
   },
   "types_to_exclude": [
    "module",
    "function",
    "builtin_function_or_method",
    "instance",
    "_Feature"
   ],
   "window_display": false
  },
  "vscode": {
   "interpreter": {
    "hash": "aee8b7b246df8f9039afb4144a1f6fd8d2ca17a180786b69acc140d282b71a49"
   }
  }
 },
 "nbformat": 4,
 "nbformat_minor": 5
}
